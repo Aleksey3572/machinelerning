{
 "cells": [
  {
   "cell_type": "code",
   "execution_count": 1,
   "id": "8627ab85",
   "metadata": {},
   "outputs": [],
   "source": [
    "import numpy as np\n",
    "import pandas as pd\n",
    "import seaborn as sns\n",
    "import matplotlib.pyplot as plt\n",
    "import pickle\n",
    "\n",
    "from sklearn.model_selection import train_test_split\n",
    "from sklearn.preprocessing import LabelEncoder\n",
    "from sklearn.model_selection import train_test_split, GridSearchCV\n",
    "from sklearn.metrics import classification_report,accuracy_score, mean_absolute_error\n",
    "from sklearn.tree import DecisionTreeClassifier, DecisionTreeRegressor\n",
    "from sklearn.ensemble import RandomForestClassifier, GradientBoostingRegressor\n",
    "from sklearn.metrics import mean_squared_error, make_scorer\n",
    "from xgboost import XGBRegressor\n",
    "from sklearn.ensemble import  RandomForestRegressor, BaggingRegressor\n",
    "\n",
    "import math\n",
    "\n",
    "import warnings\n",
    "warnings.filterwarnings('ignore')\n",
    "%matplotlib inline"
   ]
  },
  {
   "cell_type": "code",
   "execution_count": 2,
   "id": "46583f5b",
   "metadata": {},
   "outputs": [],
   "source": [
    "train_data = pd.read_csv(\"data/train.csv\", index_col = 0)\n",
    "test_data = pd.read_csv(\"data/test.csv\", index_col = 0)\n",
    "sample_submission = pd.read_csv('data/sample_submission.csv')"
   ]
  },
  {
   "cell_type": "code",
   "execution_count": 3,
   "id": "44ac48cf",
   "metadata": {},
   "outputs": [
    {
     "data": {
      "text/html": [
       "<div>\n",
       "<style scoped>\n",
       "    .dataframe tbody tr th:only-of-type {\n",
       "        vertical-align: middle;\n",
       "    }\n",
       "\n",
       "    .dataframe tbody tr th {\n",
       "        vertical-align: top;\n",
       "    }\n",
       "\n",
       "    .dataframe thead th {\n",
       "        text-align: right;\n",
       "    }\n",
       "</style>\n",
       "<table border=\"1\" class=\"dataframe\">\n",
       "  <thead>\n",
       "    <tr style=\"text-align: right;\">\n",
       "      <th></th>\n",
       "      <th>MSSubClass</th>\n",
       "      <th>MSZoning</th>\n",
       "      <th>LotFrontage</th>\n",
       "      <th>LotArea</th>\n",
       "      <th>Street</th>\n",
       "      <th>Alley</th>\n",
       "      <th>LotShape</th>\n",
       "      <th>LandContour</th>\n",
       "      <th>Utilities</th>\n",
       "      <th>LotConfig</th>\n",
       "      <th>...</th>\n",
       "      <th>PoolArea</th>\n",
       "      <th>PoolQC</th>\n",
       "      <th>Fence</th>\n",
       "      <th>MiscFeature</th>\n",
       "      <th>MiscVal</th>\n",
       "      <th>MoSold</th>\n",
       "      <th>YrSold</th>\n",
       "      <th>SaleType</th>\n",
       "      <th>SaleCondition</th>\n",
       "      <th>SalePrice</th>\n",
       "    </tr>\n",
       "    <tr>\n",
       "      <th>Id</th>\n",
       "      <th></th>\n",
       "      <th></th>\n",
       "      <th></th>\n",
       "      <th></th>\n",
       "      <th></th>\n",
       "      <th></th>\n",
       "      <th></th>\n",
       "      <th></th>\n",
       "      <th></th>\n",
       "      <th></th>\n",
       "      <th></th>\n",
       "      <th></th>\n",
       "      <th></th>\n",
       "      <th></th>\n",
       "      <th></th>\n",
       "      <th></th>\n",
       "      <th></th>\n",
       "      <th></th>\n",
       "      <th></th>\n",
       "      <th></th>\n",
       "      <th></th>\n",
       "    </tr>\n",
       "  </thead>\n",
       "  <tbody>\n",
       "    <tr>\n",
       "      <th>1</th>\n",
       "      <td>60</td>\n",
       "      <td>RL</td>\n",
       "      <td>65.0</td>\n",
       "      <td>8450</td>\n",
       "      <td>Pave</td>\n",
       "      <td>NaN</td>\n",
       "      <td>Reg</td>\n",
       "      <td>Lvl</td>\n",
       "      <td>AllPub</td>\n",
       "      <td>Inside</td>\n",
       "      <td>...</td>\n",
       "      <td>0</td>\n",
       "      <td>NaN</td>\n",
       "      <td>NaN</td>\n",
       "      <td>NaN</td>\n",
       "      <td>0</td>\n",
       "      <td>2</td>\n",
       "      <td>2008</td>\n",
       "      <td>WD</td>\n",
       "      <td>Normal</td>\n",
       "      <td>208500</td>\n",
       "    </tr>\n",
       "    <tr>\n",
       "      <th>2</th>\n",
       "      <td>20</td>\n",
       "      <td>RL</td>\n",
       "      <td>80.0</td>\n",
       "      <td>9600</td>\n",
       "      <td>Pave</td>\n",
       "      <td>NaN</td>\n",
       "      <td>Reg</td>\n",
       "      <td>Lvl</td>\n",
       "      <td>AllPub</td>\n",
       "      <td>FR2</td>\n",
       "      <td>...</td>\n",
       "      <td>0</td>\n",
       "      <td>NaN</td>\n",
       "      <td>NaN</td>\n",
       "      <td>NaN</td>\n",
       "      <td>0</td>\n",
       "      <td>5</td>\n",
       "      <td>2007</td>\n",
       "      <td>WD</td>\n",
       "      <td>Normal</td>\n",
       "      <td>181500</td>\n",
       "    </tr>\n",
       "    <tr>\n",
       "      <th>3</th>\n",
       "      <td>60</td>\n",
       "      <td>RL</td>\n",
       "      <td>68.0</td>\n",
       "      <td>11250</td>\n",
       "      <td>Pave</td>\n",
       "      <td>NaN</td>\n",
       "      <td>IR1</td>\n",
       "      <td>Lvl</td>\n",
       "      <td>AllPub</td>\n",
       "      <td>Inside</td>\n",
       "      <td>...</td>\n",
       "      <td>0</td>\n",
       "      <td>NaN</td>\n",
       "      <td>NaN</td>\n",
       "      <td>NaN</td>\n",
       "      <td>0</td>\n",
       "      <td>9</td>\n",
       "      <td>2008</td>\n",
       "      <td>WD</td>\n",
       "      <td>Normal</td>\n",
       "      <td>223500</td>\n",
       "    </tr>\n",
       "    <tr>\n",
       "      <th>4</th>\n",
       "      <td>70</td>\n",
       "      <td>RL</td>\n",
       "      <td>60.0</td>\n",
       "      <td>9550</td>\n",
       "      <td>Pave</td>\n",
       "      <td>NaN</td>\n",
       "      <td>IR1</td>\n",
       "      <td>Lvl</td>\n",
       "      <td>AllPub</td>\n",
       "      <td>Corner</td>\n",
       "      <td>...</td>\n",
       "      <td>0</td>\n",
       "      <td>NaN</td>\n",
       "      <td>NaN</td>\n",
       "      <td>NaN</td>\n",
       "      <td>0</td>\n",
       "      <td>2</td>\n",
       "      <td>2006</td>\n",
       "      <td>WD</td>\n",
       "      <td>Abnorml</td>\n",
       "      <td>140000</td>\n",
       "    </tr>\n",
       "    <tr>\n",
       "      <th>5</th>\n",
       "      <td>60</td>\n",
       "      <td>RL</td>\n",
       "      <td>84.0</td>\n",
       "      <td>14260</td>\n",
       "      <td>Pave</td>\n",
       "      <td>NaN</td>\n",
       "      <td>IR1</td>\n",
       "      <td>Lvl</td>\n",
       "      <td>AllPub</td>\n",
       "      <td>FR2</td>\n",
       "      <td>...</td>\n",
       "      <td>0</td>\n",
       "      <td>NaN</td>\n",
       "      <td>NaN</td>\n",
       "      <td>NaN</td>\n",
       "      <td>0</td>\n",
       "      <td>12</td>\n",
       "      <td>2008</td>\n",
       "      <td>WD</td>\n",
       "      <td>Normal</td>\n",
       "      <td>250000</td>\n",
       "    </tr>\n",
       "  </tbody>\n",
       "</table>\n",
       "<p>5 rows × 80 columns</p>\n",
       "</div>"
      ],
      "text/plain": [
       "    MSSubClass MSZoning  LotFrontage  LotArea Street Alley LotShape  \\\n",
       "Id                                                                    \n",
       "1           60       RL         65.0     8450   Pave   NaN      Reg   \n",
       "2           20       RL         80.0     9600   Pave   NaN      Reg   \n",
       "3           60       RL         68.0    11250   Pave   NaN      IR1   \n",
       "4           70       RL         60.0     9550   Pave   NaN      IR1   \n",
       "5           60       RL         84.0    14260   Pave   NaN      IR1   \n",
       "\n",
       "   LandContour Utilities LotConfig  ... PoolArea PoolQC Fence MiscFeature  \\\n",
       "Id                                  ...                                     \n",
       "1          Lvl    AllPub    Inside  ...        0    NaN   NaN         NaN   \n",
       "2          Lvl    AllPub       FR2  ...        0    NaN   NaN         NaN   \n",
       "3          Lvl    AllPub    Inside  ...        0    NaN   NaN         NaN   \n",
       "4          Lvl    AllPub    Corner  ...        0    NaN   NaN         NaN   \n",
       "5          Lvl    AllPub       FR2  ...        0    NaN   NaN         NaN   \n",
       "\n",
       "   MiscVal MoSold  YrSold  SaleType  SaleCondition  SalePrice  \n",
       "Id                                                             \n",
       "1        0      2    2008        WD         Normal     208500  \n",
       "2        0      5    2007        WD         Normal     181500  \n",
       "3        0      9    2008        WD         Normal     223500  \n",
       "4        0      2    2006        WD        Abnorml     140000  \n",
       "5        0     12    2008        WD         Normal     250000  \n",
       "\n",
       "[5 rows x 80 columns]"
      ]
     },
     "execution_count": 3,
     "metadata": {},
     "output_type": "execute_result"
    }
   ],
   "source": [
    "train_data.head()"
   ]
  },
  {
   "cell_type": "code",
   "execution_count": 4,
   "id": "d07b8874",
   "metadata": {},
   "outputs": [
    {
     "data": {
      "text/html": [
       "<div>\n",
       "<style scoped>\n",
       "    .dataframe tbody tr th:only-of-type {\n",
       "        vertical-align: middle;\n",
       "    }\n",
       "\n",
       "    .dataframe tbody tr th {\n",
       "        vertical-align: top;\n",
       "    }\n",
       "\n",
       "    .dataframe thead th {\n",
       "        text-align: right;\n",
       "    }\n",
       "</style>\n",
       "<table border=\"1\" class=\"dataframe\">\n",
       "  <thead>\n",
       "    <tr style=\"text-align: right;\">\n",
       "      <th></th>\n",
       "      <th>MSSubClass</th>\n",
       "      <th>MSZoning</th>\n",
       "      <th>LotFrontage</th>\n",
       "      <th>LotArea</th>\n",
       "      <th>Street</th>\n",
       "      <th>Alley</th>\n",
       "      <th>LotShape</th>\n",
       "      <th>LandContour</th>\n",
       "      <th>Utilities</th>\n",
       "      <th>LotConfig</th>\n",
       "      <th>...</th>\n",
       "      <th>ScreenPorch</th>\n",
       "      <th>PoolArea</th>\n",
       "      <th>PoolQC</th>\n",
       "      <th>Fence</th>\n",
       "      <th>MiscFeature</th>\n",
       "      <th>MiscVal</th>\n",
       "      <th>MoSold</th>\n",
       "      <th>YrSold</th>\n",
       "      <th>SaleType</th>\n",
       "      <th>SaleCondition</th>\n",
       "    </tr>\n",
       "    <tr>\n",
       "      <th>Id</th>\n",
       "      <th></th>\n",
       "      <th></th>\n",
       "      <th></th>\n",
       "      <th></th>\n",
       "      <th></th>\n",
       "      <th></th>\n",
       "      <th></th>\n",
       "      <th></th>\n",
       "      <th></th>\n",
       "      <th></th>\n",
       "      <th></th>\n",
       "      <th></th>\n",
       "      <th></th>\n",
       "      <th></th>\n",
       "      <th></th>\n",
       "      <th></th>\n",
       "      <th></th>\n",
       "      <th></th>\n",
       "      <th></th>\n",
       "      <th></th>\n",
       "      <th></th>\n",
       "    </tr>\n",
       "  </thead>\n",
       "  <tbody>\n",
       "    <tr>\n",
       "      <th>1461</th>\n",
       "      <td>20</td>\n",
       "      <td>RH</td>\n",
       "      <td>80.0</td>\n",
       "      <td>11622</td>\n",
       "      <td>Pave</td>\n",
       "      <td>NaN</td>\n",
       "      <td>Reg</td>\n",
       "      <td>Lvl</td>\n",
       "      <td>AllPub</td>\n",
       "      <td>Inside</td>\n",
       "      <td>...</td>\n",
       "      <td>120</td>\n",
       "      <td>0</td>\n",
       "      <td>NaN</td>\n",
       "      <td>MnPrv</td>\n",
       "      <td>NaN</td>\n",
       "      <td>0</td>\n",
       "      <td>6</td>\n",
       "      <td>2010</td>\n",
       "      <td>WD</td>\n",
       "      <td>Normal</td>\n",
       "    </tr>\n",
       "    <tr>\n",
       "      <th>1462</th>\n",
       "      <td>20</td>\n",
       "      <td>RL</td>\n",
       "      <td>81.0</td>\n",
       "      <td>14267</td>\n",
       "      <td>Pave</td>\n",
       "      <td>NaN</td>\n",
       "      <td>IR1</td>\n",
       "      <td>Lvl</td>\n",
       "      <td>AllPub</td>\n",
       "      <td>Corner</td>\n",
       "      <td>...</td>\n",
       "      <td>0</td>\n",
       "      <td>0</td>\n",
       "      <td>NaN</td>\n",
       "      <td>NaN</td>\n",
       "      <td>Gar2</td>\n",
       "      <td>12500</td>\n",
       "      <td>6</td>\n",
       "      <td>2010</td>\n",
       "      <td>WD</td>\n",
       "      <td>Normal</td>\n",
       "    </tr>\n",
       "    <tr>\n",
       "      <th>1463</th>\n",
       "      <td>60</td>\n",
       "      <td>RL</td>\n",
       "      <td>74.0</td>\n",
       "      <td>13830</td>\n",
       "      <td>Pave</td>\n",
       "      <td>NaN</td>\n",
       "      <td>IR1</td>\n",
       "      <td>Lvl</td>\n",
       "      <td>AllPub</td>\n",
       "      <td>Inside</td>\n",
       "      <td>...</td>\n",
       "      <td>0</td>\n",
       "      <td>0</td>\n",
       "      <td>NaN</td>\n",
       "      <td>MnPrv</td>\n",
       "      <td>NaN</td>\n",
       "      <td>0</td>\n",
       "      <td>3</td>\n",
       "      <td>2010</td>\n",
       "      <td>WD</td>\n",
       "      <td>Normal</td>\n",
       "    </tr>\n",
       "    <tr>\n",
       "      <th>1464</th>\n",
       "      <td>60</td>\n",
       "      <td>RL</td>\n",
       "      <td>78.0</td>\n",
       "      <td>9978</td>\n",
       "      <td>Pave</td>\n",
       "      <td>NaN</td>\n",
       "      <td>IR1</td>\n",
       "      <td>Lvl</td>\n",
       "      <td>AllPub</td>\n",
       "      <td>Inside</td>\n",
       "      <td>...</td>\n",
       "      <td>0</td>\n",
       "      <td>0</td>\n",
       "      <td>NaN</td>\n",
       "      <td>NaN</td>\n",
       "      <td>NaN</td>\n",
       "      <td>0</td>\n",
       "      <td>6</td>\n",
       "      <td>2010</td>\n",
       "      <td>WD</td>\n",
       "      <td>Normal</td>\n",
       "    </tr>\n",
       "    <tr>\n",
       "      <th>1465</th>\n",
       "      <td>120</td>\n",
       "      <td>RL</td>\n",
       "      <td>43.0</td>\n",
       "      <td>5005</td>\n",
       "      <td>Pave</td>\n",
       "      <td>NaN</td>\n",
       "      <td>IR1</td>\n",
       "      <td>HLS</td>\n",
       "      <td>AllPub</td>\n",
       "      <td>Inside</td>\n",
       "      <td>...</td>\n",
       "      <td>144</td>\n",
       "      <td>0</td>\n",
       "      <td>NaN</td>\n",
       "      <td>NaN</td>\n",
       "      <td>NaN</td>\n",
       "      <td>0</td>\n",
       "      <td>1</td>\n",
       "      <td>2010</td>\n",
       "      <td>WD</td>\n",
       "      <td>Normal</td>\n",
       "    </tr>\n",
       "  </tbody>\n",
       "</table>\n",
       "<p>5 rows × 79 columns</p>\n",
       "</div>"
      ],
      "text/plain": [
       "      MSSubClass MSZoning  LotFrontage  LotArea Street Alley LotShape  \\\n",
       "Id                                                                      \n",
       "1461          20       RH         80.0    11622   Pave   NaN      Reg   \n",
       "1462          20       RL         81.0    14267   Pave   NaN      IR1   \n",
       "1463          60       RL         74.0    13830   Pave   NaN      IR1   \n",
       "1464          60       RL         78.0     9978   Pave   NaN      IR1   \n",
       "1465         120       RL         43.0     5005   Pave   NaN      IR1   \n",
       "\n",
       "     LandContour Utilities LotConfig  ... ScreenPorch PoolArea PoolQC  Fence  \\\n",
       "Id                                    ...                                      \n",
       "1461         Lvl    AllPub    Inside  ...         120        0    NaN  MnPrv   \n",
       "1462         Lvl    AllPub    Corner  ...           0        0    NaN    NaN   \n",
       "1463         Lvl    AllPub    Inside  ...           0        0    NaN  MnPrv   \n",
       "1464         Lvl    AllPub    Inside  ...           0        0    NaN    NaN   \n",
       "1465         HLS    AllPub    Inside  ...         144        0    NaN    NaN   \n",
       "\n",
       "     MiscFeature MiscVal  MoSold  YrSold  SaleType  SaleCondition  \n",
       "Id                                                                 \n",
       "1461         NaN       0       6    2010        WD         Normal  \n",
       "1462        Gar2   12500       6    2010        WD         Normal  \n",
       "1463         NaN       0       3    2010        WD         Normal  \n",
       "1464         NaN       0       6    2010        WD         Normal  \n",
       "1465         NaN       0       1    2010        WD         Normal  \n",
       "\n",
       "[5 rows x 79 columns]"
      ]
     },
     "execution_count": 4,
     "metadata": {},
     "output_type": "execute_result"
    }
   ],
   "source": [
    "test_data.head()"
   ]
  },
  {
   "cell_type": "markdown",
   "id": "d3406283",
   "metadata": {},
   "source": [
    "# Визуализация данных"
   ]
  },
  {
   "cell_type": "markdown",
   "id": "df7432a8",
   "metadata": {},
   "source": [
    "Посмотрим на распределение по ценам"
   ]
  },
  {
   "cell_type": "code",
   "execution_count": 5,
   "id": "b5870ae0",
   "metadata": {},
   "outputs": [
    {
     "data": {
      "text/plain": [
       "<AxesSubplot:xlabel='SalePrice', ylabel='Count'>"
      ]
     },
     "execution_count": 5,
     "metadata": {},
     "output_type": "execute_result"
    },
    {
     "data": {
      "image/png": "[encoded data removed]",
      "text/plain": [
       "<Figure size 432x288 with 1 Axes>"
      ]
     },
     "metadata": {
      "needs_background": "light"
     },
     "output_type": "display_data"
    }
   ],
   "source": [
    "sns.histplot(train_data[\"SalePrice\"])"
   ]
  },
  {
   "cell_type": "markdown",
   "id": "6d54d0cb",
   "metadata": {},
   "source": [
    "Посмотрим на корреляцию признаков"
   ]
  },
  {
   "cell_type": "code",
   "execution_count": 6,
   "id": "dc223f2b",
   "metadata": {},
   "outputs": [
    {
     "data": {
      "image/png": "[encoded data removed]",
      "text/plain": [
       "<Figure size 648x648 with 2 Axes>"
      ]
     },
     "metadata": {
      "needs_background": "light"
     },
     "output_type": "display_data"
    }
   ],
   "source": [
    "corrmat = train_data.corr()\n",
    "top_corr_features = corrmat.index[abs(corrmat[\"SalePrice\"]) > 0.5]\n",
    "plt.figure(figsize = (9,9))\n",
    "g = sns.heatmap(train_data[top_corr_features].corr(), annot=True, cmap=\"RdYlGn\")"
   ]
  },
  {
   "cell_type": "markdown",
   "id": "ed194499",
   "metadata": {},
   "source": [
    "# Препроцессинг"
   ]
  },
  {
   "cell_type": "markdown",
   "id": "8d096bea",
   "metadata": {},
   "source": [
    "## Train_data"
   ]
  },
  {
   "cell_type": "code",
   "execution_count": 7,
   "id": "a3ae212b",
   "metadata": {},
   "outputs": [
    {
     "data": {
      "text/plain": [
       "MSSubClass         0\n",
       "MSZoning           0\n",
       "LotFrontage      259\n",
       "LotArea            0\n",
       "Street             0\n",
       "                ... \n",
       "MoSold             0\n",
       "YrSold             0\n",
       "SaleType           0\n",
       "SaleCondition      0\n",
       "SalePrice          0\n",
       "Length: 80, dtype: int64"
      ]
     },
     "execution_count": 7,
     "metadata": {},
     "output_type": "execute_result"
    }
   ],
   "source": [
    "train_data.isnull().sum()"
   ]
  },
  {
   "cell_type": "code",
   "execution_count": 8,
   "id": "e33541f7",
   "metadata": {},
   "outputs": [
    {
     "data": {
      "text/plain": [
       "PoolQC          1453\n",
       "MiscFeature     1406\n",
       "Alley           1369\n",
       "Fence           1179\n",
       "FireplaceQu      690\n",
       "LotFrontage      259\n",
       "GarageType        81\n",
       "GarageCond        81\n",
       "GarageFinish      81\n",
       "GarageQual        81\n",
       "GarageYrBlt       81\n",
       "BsmtFinType2      38\n",
       "BsmtExposure      38\n",
       "BsmtQual          37\n",
       "BsmtCond          37\n",
       "BsmtFinType1      37\n",
       "MasVnrArea         8\n",
       "MasVnrType         8\n",
       "Electrical         1\n",
       "RoofMatl           0\n",
       "dtype: int64"
      ]
     },
     "execution_count": 8,
     "metadata": {},
     "output_type": "execute_result"
    }
   ],
   "source": [
    "total_null = train_data.isnull().sum().sort_values(ascending=False)\n",
    "total_null.head(20)"
   ]
  },
  {
   "cell_type": "code",
   "execution_count": 9,
   "id": "53e6e539",
   "metadata": {},
   "outputs": [
    {
     "data": {
      "text/plain": [
       "GarageType      81\n",
       "GarageYrBlt     81\n",
       "GarageFinish    81\n",
       "GarageQual      81\n",
       "GarageCond      81\n",
       "BsmtFinType2    38\n",
       "BsmtExposure    38\n",
       "BsmtFinType1    37\n",
       "BsmtCond        37\n",
       "BsmtQual        37\n",
       "MasVnrType       8\n",
       "MasVnrArea       8\n",
       "Electrical       1\n",
       "YearRemodAdd     0\n",
       "ExterQual        0\n",
       "ExterCond        0\n",
       "Exterior2nd      0\n",
       "Exterior1st      0\n",
       "Foundation       0\n",
       "BsmtFinSF1       0\n",
       "dtype: int64"
      ]
     },
     "execution_count": 9,
     "metadata": {},
     "output_type": "execute_result"
    }
   ],
   "source": [
    "train_data = train_data.drop(total_null[total_null.values > 100].index, 1)\n",
    "train_data.isnull().sum().sort_values(ascending=False).head(20)"
   ]
  },
  {
   "cell_type": "code",
   "execution_count": 10,
   "id": "bb007ff4",
   "metadata": {},
   "outputs": [
    {
     "data": {
      "text/plain": [
       "['MSSubClass',\n",
       " 'LotArea',\n",
       " 'OverallQual',\n",
       " 'OverallCond',\n",
       " 'YearBuilt',\n",
       " 'YearRemodAdd',\n",
       " 'MasVnrArea',\n",
       " 'BsmtFinSF1',\n",
       " 'BsmtFinSF2',\n",
       " 'BsmtUnfSF',\n",
       " 'TotalBsmtSF',\n",
       " '1stFlrSF',\n",
       " '2ndFlrSF',\n",
       " 'LowQualFinSF',\n",
       " 'GrLivArea',\n",
       " 'BsmtFullBath',\n",
       " 'BsmtHalfBath',\n",
       " 'FullBath',\n",
       " 'HalfBath',\n",
       " 'BedroomAbvGr',\n",
       " 'KitchenAbvGr',\n",
       " 'TotRmsAbvGrd',\n",
       " 'Fireplaces',\n",
       " 'GarageYrBlt',\n",
       " 'GarageCars',\n",
       " 'GarageArea',\n",
       " 'WoodDeckSF',\n",
       " 'OpenPorchSF',\n",
       " 'EnclosedPorch',\n",
       " '3SsnPorch',\n",
       " 'ScreenPorch',\n",
       " 'PoolArea',\n",
       " 'MiscVal',\n",
       " 'MoSold',\n",
       " 'YrSold',\n",
       " 'SalePrice']"
      ]
     },
     "execution_count": 10,
     "metadata": {},
     "output_type": "execute_result"
    }
   ],
   "source": [
    "numeric_names = train_data._get_numeric_data().columns.tolist()\n",
    "numeric_names"
   ]
  },
  {
   "cell_type": "code",
   "execution_count": 11,
   "id": "e9675618",
   "metadata": {},
   "outputs": [],
   "source": [
    "for col in numeric_names:\n",
    "    train_data[col].fillna(train_data[col].mean(), inplace=True)"
   ]
  },
  {
   "cell_type": "code",
   "execution_count": 12,
   "id": "3df3ca63",
   "metadata": {},
   "outputs": [
    {
     "data": {
      "text/plain": [
       "{'BldgType',\n",
       " 'BsmtCond',\n",
       " 'BsmtExposure',\n",
       " 'BsmtFinType1',\n",
       " 'BsmtFinType2',\n",
       " 'BsmtQual',\n",
       " 'CentralAir',\n",
       " 'Condition1',\n",
       " 'Condition2',\n",
       " 'Electrical',\n",
       " 'ExterCond',\n",
       " 'ExterQual',\n",
       " 'Exterior1st',\n",
       " 'Exterior2nd',\n",
       " 'Foundation',\n",
       " 'Functional',\n",
       " 'GarageCond',\n",
       " 'GarageFinish',\n",
       " 'GarageQual',\n",
       " 'GarageType',\n",
       " 'Heating',\n",
       " 'HeatingQC',\n",
       " 'HouseStyle',\n",
       " 'KitchenQual',\n",
       " 'LandContour',\n",
       " 'LandSlope',\n",
       " 'LotConfig',\n",
       " 'LotShape',\n",
       " 'MSZoning',\n",
       " 'MasVnrType',\n",
       " 'Neighborhood',\n",
       " 'PavedDrive',\n",
       " 'RoofMatl',\n",
       " 'RoofStyle',\n",
       " 'SaleCondition',\n",
       " 'SaleType',\n",
       " 'Street',\n",
       " 'Utilities'}"
      ]
     },
     "execution_count": 12,
     "metadata": {},
     "output_type": "execute_result"
    }
   ],
   "source": [
    "categorial_names = set(train_data.columns) - set(numeric_names)\n",
    "categorial_names"
   ]
  },
  {
   "cell_type": "code",
   "execution_count": 13,
   "id": "37504673",
   "metadata": {},
   "outputs": [
    {
     "data": {
      "text/plain": [
       "SalePrice       0\n",
       "RoofStyle       0\n",
       "Exterior1st     0\n",
       "Exterior2nd     0\n",
       "MasVnrType      0\n",
       "               ..\n",
       "KitchenAbvGr    0\n",
       "KitchenQual     0\n",
       "TotRmsAbvGrd    0\n",
       "Functional      0\n",
       "MSSubClass      0\n",
       "Length: 74, dtype: int64"
      ]
     },
     "execution_count": 13,
     "metadata": {},
     "output_type": "execute_result"
    }
   ],
   "source": [
    "for col in categorial_names:\n",
    "    train_data[col].fillna(train_data[col].mode()[0], inplace=True)\n",
    "train_data.isnull().sum().sort_values(ascending=False)"
   ]
  },
  {
   "cell_type": "code",
   "execution_count": 14,
   "id": "42143148",
   "metadata": {},
   "outputs": [
    {
     "name": "stdout",
     "output_type": "stream",
     "text": [
      "<class 'pandas.core.frame.DataFrame'>\n",
      "Int64Index: 1460 entries, 1 to 1460\n",
      "Data columns (total 74 columns):\n",
      " #   Column         Non-Null Count  Dtype  \n",
      "---  ------         --------------  -----  \n",
      " 0   MSSubClass     1460 non-null   int64  \n",
      " 1   MSZoning       1460 non-null   int32  \n",
      " 2   LotArea        1460 non-null   int64  \n",
      " 3   Street         1460 non-null   int32  \n",
      " 4   LotShape       1460 non-null   int32  \n",
      " 5   LandContour    1460 non-null   int32  \n",
      " 6   Utilities      1460 non-null   int32  \n",
      " 7   LotConfig      1460 non-null   int32  \n",
      " 8   LandSlope      1460 non-null   int32  \n",
      " 9   Neighborhood   1460 non-null   int32  \n",
      " 10  Condition1     1460 non-null   int32  \n",
      " 11  Condition2     1460 non-null   int32  \n",
      " 12  BldgType       1460 non-null   int32  \n",
      " 13  HouseStyle     1460 non-null   int32  \n",
      " 14  OverallQual    1460 non-null   int64  \n",
      " 15  OverallCond    1460 non-null   int64  \n",
      " 16  YearBuilt      1460 non-null   int64  \n",
      " 17  YearRemodAdd   1460 non-null   int64  \n",
      " 18  RoofStyle      1460 non-null   int32  \n",
      " 19  RoofMatl       1460 non-null   int32  \n",
      " 20  Exterior1st    1460 non-null   int32  \n",
      " 21  Exterior2nd    1460 non-null   int32  \n",
      " 22  MasVnrType     1460 non-null   int32  \n",
      " 23  MasVnrArea     1460 non-null   float64\n",
      " 24  ExterQual      1460 non-null   int32  \n",
      " 25  ExterCond      1460 non-null   int32  \n",
      " 26  Foundation     1460 non-null   int32  \n",
      " 27  BsmtQual       1460 non-null   int32  \n",
      " 28  BsmtCond       1460 non-null   int32  \n",
      " 29  BsmtExposure   1460 non-null   int32  \n",
      " 30  BsmtFinType1   1460 non-null   int32  \n",
      " 31  BsmtFinSF1     1460 non-null   int64  \n",
      " 32  BsmtFinType2   1460 non-null   int32  \n",
      " 33  BsmtFinSF2     1460 non-null   int64  \n",
      " 34  BsmtUnfSF      1460 non-null   int64  \n",
      " 35  TotalBsmtSF    1460 non-null   int64  \n",
      " 36  Heating        1460 non-null   int32  \n",
      " 37  HeatingQC      1460 non-null   int32  \n",
      " 38  CentralAir     1460 non-null   int32  \n",
      " 39  Electrical     1460 non-null   int32  \n",
      " 40  1stFlrSF       1460 non-null   int64  \n",
      " 41  2ndFlrSF       1460 non-null   int64  \n",
      " 42  LowQualFinSF   1460 non-null   int64  \n",
      " 43  GrLivArea      1460 non-null   int64  \n",
      " 44  BsmtFullBath   1460 non-null   int64  \n",
      " 45  BsmtHalfBath   1460 non-null   int64  \n",
      " 46  FullBath       1460 non-null   int64  \n",
      " 47  HalfBath       1460 non-null   int64  \n",
      " 48  BedroomAbvGr   1460 non-null   int64  \n",
      " 49  KitchenAbvGr   1460 non-null   int64  \n",
      " 50  KitchenQual    1460 non-null   int32  \n",
      " 51  TotRmsAbvGrd   1460 non-null   int64  \n",
      " 52  Functional     1460 non-null   int32  \n",
      " 53  Fireplaces     1460 non-null   int64  \n",
      " 54  GarageType     1460 non-null   int32  \n",
      " 55  GarageYrBlt    1460 non-null   float64\n",
      " 56  GarageFinish   1460 non-null   int32  \n",
      " 57  GarageCars     1460 non-null   int64  \n",
      " 58  GarageArea     1460 non-null   int64  \n",
      " 59  GarageQual     1460 non-null   int32  \n",
      " 60  GarageCond     1460 non-null   int32  \n",
      " 61  PavedDrive     1460 non-null   int32  \n",
      " 62  WoodDeckSF     1460 non-null   int64  \n",
      " 63  OpenPorchSF    1460 non-null   int64  \n",
      " 64  EnclosedPorch  1460 non-null   int64  \n",
      " 65  3SsnPorch      1460 non-null   int64  \n",
      " 66  ScreenPorch    1460 non-null   int64  \n",
      " 67  PoolArea       1460 non-null   int64  \n",
      " 68  MiscVal        1460 non-null   int64  \n",
      " 69  MoSold         1460 non-null   int64  \n",
      " 70  YrSold         1460 non-null   int64  \n",
      " 71  SaleType       1460 non-null   int32  \n",
      " 72  SaleCondition  1460 non-null   int32  \n",
      " 73  SalePrice      1460 non-null   int64  \n",
      "dtypes: float64(2), int32(38), int64(34)\n",
      "memory usage: 638.8 KB\n"
     ]
    }
   ],
   "source": [
    "object_cols = [col for col in train_data.columns if train_data[col].dtype == \"object\"]\n",
    "label_encoder=LabelEncoder()\n",
    "for col in object_cols:\n",
    "    train_data[col]=label_encoder.fit_transform(train_data[col])\n",
    "train_data.info()"
   ]
  },
  {
   "cell_type": "markdown",
   "id": "d4a09644",
   "metadata": {},
   "source": [
    "## Test_data"
   ]
  },
  {
   "cell_type": "code",
   "execution_count": 15,
   "id": "2ddcaca6",
   "metadata": {},
   "outputs": [
    {
     "data": {
      "text/plain": [
       "GarageQual      78\n",
       "GarageCond      78\n",
       "GarageYrBlt     78\n",
       "GarageFinish    78\n",
       "GarageType      76\n",
       "BsmtCond        45\n",
       "BsmtQual        44\n",
       "BsmtExposure    44\n",
       "BsmtFinType1    42\n",
       "BsmtFinType2    42\n",
       "MasVnrType      16\n",
       "MasVnrArea      15\n",
       "MSZoning         4\n",
       "Functional       2\n",
       "BsmtHalfBath     2\n",
       "BsmtFullBath     2\n",
       "Utilities        2\n",
       "KitchenQual      1\n",
       "Exterior2nd      1\n",
       "SaleType         1\n",
       "dtype: int64"
      ]
     },
     "execution_count": 15,
     "metadata": {},
     "output_type": "execute_result"
    }
   ],
   "source": [
    "test_data = test_data.drop(total_null[total_null.values > 100].index, 1)\n",
    "total_null = test_data.isnull().sum().sort_values(ascending=False)\n",
    "total_null.head(20)"
   ]
  },
  {
   "cell_type": "code",
   "execution_count": 16,
   "id": "fddcb415",
   "metadata": {},
   "outputs": [],
   "source": [
    "numeric_names = test_data._get_numeric_data().columns.tolist()\n",
    "for col in numeric_names:\n",
    "    test_data[col].fillna(test_data[col].mean(), inplace=True)"
   ]
  },
  {
   "cell_type": "code",
   "execution_count": 17,
   "id": "6a83fb95",
   "metadata": {},
   "outputs": [
    {
     "data": {
      "text/plain": [
       "SaleCondition    0\n",
       "TotalBsmtSF      0\n",
       "RoofMatl         0\n",
       "Exterior1st      0\n",
       "Exterior2nd      0\n",
       "                ..\n",
       "BedroomAbvGr     0\n",
       "KitchenAbvGr     0\n",
       "KitchenQual      0\n",
       "TotRmsAbvGrd     0\n",
       "MSSubClass       0\n",
       "Length: 73, dtype: int64"
      ]
     },
     "execution_count": 17,
     "metadata": {},
     "output_type": "execute_result"
    }
   ],
   "source": [
    "categorial_names = set(test_data.columns) - set(numeric_names)\n",
    "for col in categorial_names:\n",
    "    test_data[col].fillna(test_data[col].mode()[0], inplace=True)\n",
    "test_data.isnull().sum().sort_values(ascending=False)"
   ]
  },
  {
   "cell_type": "code",
   "execution_count": 18,
   "id": "5b5eb5be",
   "metadata": {},
   "outputs": [
    {
     "data": {
      "text/plain": [
       "MSSubClass       False\n",
       "MSZoning         False\n",
       "LotArea          False\n",
       "Street           False\n",
       "LotShape         False\n",
       "                 ...  \n",
       "MoSold           False\n",
       "YrSold           False\n",
       "SaleType         False\n",
       "SaleCondition    False\n",
       "SalePrice        False\n",
       "Length: 74, dtype: bool"
      ]
     },
     "execution_count": 18,
     "metadata": {},
     "output_type": "execute_result"
    }
   ],
   "source": [
    "train_data.isna().any()"
   ]
  },
  {
   "cell_type": "code",
   "execution_count": 19,
   "id": "67386d15",
   "metadata": {},
   "outputs": [
    {
     "name": "stdout",
     "output_type": "stream",
     "text": [
      "<class 'pandas.core.frame.DataFrame'>\n",
      "Int64Index: 1459 entries, 1461 to 2919\n",
      "Data columns (total 73 columns):\n",
      " #   Column         Non-Null Count  Dtype  \n",
      "---  ------         --------------  -----  \n",
      " 0   MSSubClass     1459 non-null   int64  \n",
      " 1   MSZoning       1459 non-null   int32  \n",
      " 2   LotArea        1459 non-null   int64  \n",
      " 3   Street         1459 non-null   int32  \n",
      " 4   LotShape       1459 non-null   int32  \n",
      " 5   LandContour    1459 non-null   int32  \n",
      " 6   Utilities      1459 non-null   int32  \n",
      " 7   LotConfig      1459 non-null   int32  \n",
      " 8   LandSlope      1459 non-null   int32  \n",
      " 9   Neighborhood   1459 non-null   int32  \n",
      " 10  Condition1     1459 non-null   int32  \n",
      " 11  Condition2     1459 non-null   int32  \n",
      " 12  BldgType       1459 non-null   int32  \n",
      " 13  HouseStyle     1459 non-null   int32  \n",
      " 14  OverallQual    1459 non-null   int64  \n",
      " 15  OverallCond    1459 non-null   int64  \n",
      " 16  YearBuilt      1459 non-null   int64  \n",
      " 17  YearRemodAdd   1459 non-null   int64  \n",
      " 18  RoofStyle      1459 non-null   int32  \n",
      " 19  RoofMatl       1459 non-null   int32  \n",
      " 20  Exterior1st    1459 non-null   int32  \n",
      " 21  Exterior2nd    1459 non-null   int32  \n",
      " 22  MasVnrType     1459 non-null   int32  \n",
      " 23  MasVnrArea     1459 non-null   float64\n",
      " 24  ExterQual      1459 non-null   int32  \n",
      " 25  ExterCond      1459 non-null   int32  \n",
      " 26  Foundation     1459 non-null   int32  \n",
      " 27  BsmtQual       1459 non-null   int32  \n",
      " 28  BsmtCond       1459 non-null   int32  \n",
      " 29  BsmtExposure   1459 non-null   int32  \n",
      " 30  BsmtFinType1   1459 non-null   int32  \n",
      " 31  BsmtFinSF1     1459 non-null   float64\n",
      " 32  BsmtFinType2   1459 non-null   int32  \n",
      " 33  BsmtFinSF2     1459 non-null   float64\n",
      " 34  BsmtUnfSF      1459 non-null   float64\n",
      " 35  TotalBsmtSF    1459 non-null   float64\n",
      " 36  Heating        1459 non-null   int32  \n",
      " 37  HeatingQC      1459 non-null   int32  \n",
      " 38  CentralAir     1459 non-null   int32  \n",
      " 39  Electrical     1459 non-null   int32  \n",
      " 40  1stFlrSF       1459 non-null   int64  \n",
      " 41  2ndFlrSF       1459 non-null   int64  \n",
      " 42  LowQualFinSF   1459 non-null   int64  \n",
      " 43  GrLivArea      1459 non-null   int64  \n",
      " 44  BsmtFullBath   1459 non-null   float64\n",
      " 45  BsmtHalfBath   1459 non-null   float64\n",
      " 46  FullBath       1459 non-null   int64  \n",
      " 47  HalfBath       1459 non-null   int64  \n",
      " 48  BedroomAbvGr   1459 non-null   int64  \n",
      " 49  KitchenAbvGr   1459 non-null   int64  \n",
      " 50  KitchenQual    1459 non-null   int32  \n",
      " 51  TotRmsAbvGrd   1459 non-null   int64  \n",
      " 52  Functional     1459 non-null   int32  \n",
      " 53  Fireplaces     1459 non-null   int64  \n",
      " 54  GarageType     1459 non-null   int32  \n",
      " 55  GarageYrBlt    1459 non-null   float64\n",
      " 56  GarageFinish   1459 non-null   int32  \n",
      " 57  GarageCars     1459 non-null   float64\n",
      " 58  GarageArea     1459 non-null   float64\n",
      " 59  GarageQual     1459 non-null   int32  \n",
      " 60  GarageCond     1459 non-null   int32  \n",
      " 61  PavedDrive     1459 non-null   int32  \n",
      " 62  WoodDeckSF     1459 non-null   int64  \n",
      " 63  OpenPorchSF    1459 non-null   int64  \n",
      " 64  EnclosedPorch  1459 non-null   int64  \n",
      " 65  3SsnPorch      1459 non-null   int64  \n",
      " 66  ScreenPorch    1459 non-null   int64  \n",
      " 67  PoolArea       1459 non-null   int64  \n",
      " 68  MiscVal        1459 non-null   int64  \n",
      " 69  MoSold         1459 non-null   int64  \n",
      " 70  YrSold         1459 non-null   int64  \n",
      " 71  SaleType       1459 non-null   int32  \n",
      " 72  SaleCondition  1459 non-null   int32  \n",
      "dtypes: float64(10), int32(38), int64(25)\n",
      "memory usage: 626.9 KB\n"
     ]
    }
   ],
   "source": [
    "object_cols = [col for col in test_data.columns if test_data[col].dtype == \"object\"]\n",
    "label_encoder=LabelEncoder()\n",
    "for col in object_cols: \n",
    "    test_data[col]=label_encoder.fit_transform(test_data[col])\n",
    "test_data.info()"
   ]
  },
  {
   "cell_type": "code",
   "execution_count": 20,
   "id": "5318fd1e",
   "metadata": {},
   "outputs": [],
   "source": [
    "y = train_data[\"SalePrice\"]\n",
    "X = train_data.drop(\"SalePrice\", axis = 1)\n",
    "X_test = test_data\n"
   ]
  },
  {
   "cell_type": "code",
   "execution_count": 21,
   "id": "3281899a",
   "metadata": {
    "scrolled": true
   },
   "outputs": [
    {
     "name": "stdout",
     "output_type": "stream",
     "text": [
      "(1460, 73)\n",
      "(1459, 73)\n"
     ]
    },
    {
     "data": {
      "text/html": [
       "<div>\n",
       "<style scoped>\n",
       "    .dataframe tbody tr th:only-of-type {\n",
       "        vertical-align: middle;\n",
       "    }\n",
       "\n",
       "    .dataframe tbody tr th {\n",
       "        vertical-align: top;\n",
       "    }\n",
       "\n",
       "    .dataframe thead th {\n",
       "        text-align: right;\n",
       "    }\n",
       "</style>\n",
       "<table border=\"1\" class=\"dataframe\">\n",
       "  <thead>\n",
       "    <tr style=\"text-align: right;\">\n",
       "      <th></th>\n",
       "      <th>MSSubClass</th>\n",
       "      <th>MSZoning</th>\n",
       "      <th>LotArea</th>\n",
       "      <th>Street</th>\n",
       "      <th>LotShape</th>\n",
       "      <th>LandContour</th>\n",
       "      <th>Utilities</th>\n",
       "      <th>LotConfig</th>\n",
       "      <th>LandSlope</th>\n",
       "      <th>Neighborhood</th>\n",
       "      <th>...</th>\n",
       "      <th>OpenPorchSF</th>\n",
       "      <th>EnclosedPorch</th>\n",
       "      <th>3SsnPorch</th>\n",
       "      <th>ScreenPorch</th>\n",
       "      <th>PoolArea</th>\n",
       "      <th>MiscVal</th>\n",
       "      <th>MoSold</th>\n",
       "      <th>YrSold</th>\n",
       "      <th>SaleType</th>\n",
       "      <th>SaleCondition</th>\n",
       "    </tr>\n",
       "    <tr>\n",
       "      <th>Id</th>\n",
       "      <th></th>\n",
       "      <th></th>\n",
       "      <th></th>\n",
       "      <th></th>\n",
       "      <th></th>\n",
       "      <th></th>\n",
       "      <th></th>\n",
       "      <th></th>\n",
       "      <th></th>\n",
       "      <th></th>\n",
       "      <th></th>\n",
       "      <th></th>\n",
       "      <th></th>\n",
       "      <th></th>\n",
       "      <th></th>\n",
       "      <th></th>\n",
       "      <th></th>\n",
       "      <th></th>\n",
       "      <th></th>\n",
       "      <th></th>\n",
       "      <th></th>\n",
       "    </tr>\n",
       "  </thead>\n",
       "  <tbody>\n",
       "    <tr>\n",
       "      <th>1</th>\n",
       "      <td>60</td>\n",
       "      <td>3</td>\n",
       "      <td>8450</td>\n",
       "      <td>1</td>\n",
       "      <td>3</td>\n",
       "      <td>3</td>\n",
       "      <td>0</td>\n",
       "      <td>4</td>\n",
       "      <td>0</td>\n",
       "      <td>5</td>\n",
       "      <td>...</td>\n",
       "      <td>61</td>\n",
       "      <td>0</td>\n",
       "      <td>0</td>\n",
       "      <td>0</td>\n",
       "      <td>0</td>\n",
       "      <td>0</td>\n",
       "      <td>2</td>\n",
       "      <td>2008</td>\n",
       "      <td>8</td>\n",
       "      <td>4</td>\n",
       "    </tr>\n",
       "    <tr>\n",
       "      <th>2</th>\n",
       "      <td>20</td>\n",
       "      <td>3</td>\n",
       "      <td>9600</td>\n",
       "      <td>1</td>\n",
       "      <td>3</td>\n",
       "      <td>3</td>\n",
       "      <td>0</td>\n",
       "      <td>2</td>\n",
       "      <td>0</td>\n",
       "      <td>24</td>\n",
       "      <td>...</td>\n",
       "      <td>0</td>\n",
       "      <td>0</td>\n",
       "      <td>0</td>\n",
       "      <td>0</td>\n",
       "      <td>0</td>\n",
       "      <td>0</td>\n",
       "      <td>5</td>\n",
       "      <td>2007</td>\n",
       "      <td>8</td>\n",
       "      <td>4</td>\n",
       "    </tr>\n",
       "    <tr>\n",
       "      <th>3</th>\n",
       "      <td>60</td>\n",
       "      <td>3</td>\n",
       "      <td>11250</td>\n",
       "      <td>1</td>\n",
       "      <td>0</td>\n",
       "      <td>3</td>\n",
       "      <td>0</td>\n",
       "      <td>4</td>\n",
       "      <td>0</td>\n",
       "      <td>5</td>\n",
       "      <td>...</td>\n",
       "      <td>42</td>\n",
       "      <td>0</td>\n",
       "      <td>0</td>\n",
       "      <td>0</td>\n",
       "      <td>0</td>\n",
       "      <td>0</td>\n",
       "      <td>9</td>\n",
       "      <td>2008</td>\n",
       "      <td>8</td>\n",
       "      <td>4</td>\n",
       "    </tr>\n",
       "    <tr>\n",
       "      <th>4</th>\n",
       "      <td>70</td>\n",
       "      <td>3</td>\n",
       "      <td>9550</td>\n",
       "      <td>1</td>\n",
       "      <td>0</td>\n",
       "      <td>3</td>\n",
       "      <td>0</td>\n",
       "      <td>0</td>\n",
       "      <td>0</td>\n",
       "      <td>6</td>\n",
       "      <td>...</td>\n",
       "      <td>35</td>\n",
       "      <td>272</td>\n",
       "      <td>0</td>\n",
       "      <td>0</td>\n",
       "      <td>0</td>\n",
       "      <td>0</td>\n",
       "      <td>2</td>\n",
       "      <td>2006</td>\n",
       "      <td>8</td>\n",
       "      <td>0</td>\n",
       "    </tr>\n",
       "    <tr>\n",
       "      <th>5</th>\n",
       "      <td>60</td>\n",
       "      <td>3</td>\n",
       "      <td>14260</td>\n",
       "      <td>1</td>\n",
       "      <td>0</td>\n",
       "      <td>3</td>\n",
       "      <td>0</td>\n",
       "      <td>2</td>\n",
       "      <td>0</td>\n",
       "      <td>15</td>\n",
       "      <td>...</td>\n",
       "      <td>84</td>\n",
       "      <td>0</td>\n",
       "      <td>0</td>\n",
       "      <td>0</td>\n",
       "      <td>0</td>\n",
       "      <td>0</td>\n",
       "      <td>12</td>\n",
       "      <td>2008</td>\n",
       "      <td>8</td>\n",
       "      <td>4</td>\n",
       "    </tr>\n",
       "  </tbody>\n",
       "</table>\n",
       "<p>5 rows × 73 columns</p>\n",
       "</div>"
      ],
      "text/plain": [
       "    MSSubClass  MSZoning  LotArea  Street  LotShape  LandContour  Utilities  \\\n",
       "Id                                                                            \n",
       "1           60         3     8450       1         3            3          0   \n",
       "2           20         3     9600       1         3            3          0   \n",
       "3           60         3    11250       1         0            3          0   \n",
       "4           70         3     9550       1         0            3          0   \n",
       "5           60         3    14260       1         0            3          0   \n",
       "\n",
       "    LotConfig  LandSlope  Neighborhood  ...  OpenPorchSF  EnclosedPorch  \\\n",
       "Id                                      ...                               \n",
       "1           4          0             5  ...           61              0   \n",
       "2           2          0            24  ...            0              0   \n",
       "3           4          0             5  ...           42              0   \n",
       "4           0          0             6  ...           35            272   \n",
       "5           2          0            15  ...           84              0   \n",
       "\n",
       "    3SsnPorch  ScreenPorch  PoolArea  MiscVal  MoSold  YrSold  SaleType  \\\n",
       "Id                                                                        \n",
       "1           0            0         0        0       2    2008         8   \n",
       "2           0            0         0        0       5    2007         8   \n",
       "3           0            0         0        0       9    2008         8   \n",
       "4           0            0         0        0       2    2006         8   \n",
       "5           0            0         0        0      12    2008         8   \n",
       "\n",
       "    SaleCondition  \n",
       "Id                 \n",
       "1               4  \n",
       "2               4  \n",
       "3               4  \n",
       "4               0  \n",
       "5               4  \n",
       "\n",
       "[5 rows x 73 columns]"
      ]
     },
     "execution_count": 21,
     "metadata": {},
     "output_type": "execute_result"
    }
   ],
   "source": [
    "print(X.shape)\n",
    "print(X_test.shape)\n",
    "X.head()"
   ]
  },
  {
   "cell_type": "markdown",
   "id": "4abea732",
   "metadata": {},
   "source": [
    "### Сохраним тестовую выборку для работы в приложении"
   ]
  },
  {
   "cell_type": "code",
   "execution_count": null,
   "id": "9b394561",
   "metadata": {},
   "outputs": [],
   "source": [
    "test_data.to_csv(\"../data/test_preprocessed\")"
   ]
  },
  {
   "cell_type": "markdown",
   "id": "81271c4d",
   "metadata": {},
   "source": [
    "# Хелперы"
   ]
  },
  {
   "cell_type": "code",
   "execution_count": 22,
   "id": "ca3de4aa",
   "metadata": {},
   "outputs": [],
   "source": [
    "def plot_model(y, y_predicted):\n",
    "    plt.figure()\n",
    "    plt.plot(np.arange(0, len(y)), y_predicted, label='Predicted')\n",
    "    plt.plot(np.arange(0, len(y)), y, label='Real')\n",
    "    plt.legend(loc=\"best\")\n",
    "    plt.show()"
   ]
  },
  {
   "cell_type": "code",
   "execution_count": 23,
   "id": "f5757199",
   "metadata": {},
   "outputs": [],
   "source": [
    "def print_metrics(estimator, score, y_test, y_pred):\n",
    "    print(f\"Коэффициент детерминации: {score}\")\n",
    "    print(f'MSE: {mean_squared_error(y_test, y_pred)}')\n",
    "    print(f'RMSE: {mean_squared_error(y_test, y_pred, squared=False)}')\n",
    "    print(f'MAE: {mean_absolute_error(y_test, y_pred)}')"
   ]
  },
  {
   "cell_type": "markdown",
   "id": "e714307f",
   "metadata": {},
   "source": [
    "# Создание моделей"
   ]
  },
  {
   "cell_type": "code",
   "execution_count": 24,
   "id": "c8511f4f",
   "metadata": {},
   "outputs": [],
   "source": [
    "X_train, X_test2, y_train, y_test = train_test_split(X, y, test_size=0.05, random_state=1)"
   ]
  },
  {
   "cell_type": "markdown",
   "id": "18ddedcd",
   "metadata": {},
   "source": [
    "## GradientBoostingRegressor"
   ]
  },
  {
   "cell_type": "code",
   "execution_count": 25,
   "id": "f786680f",
   "metadata": {},
   "outputs": [
    {
     "name": "stdout",
     "output_type": "stream",
     "text": [
      "Коэффициент детерминации: 0.9672703559683318\n",
      "MSE: 226905955.65656188\n",
      "RMSE: 15063.397878850637\n",
      "MAE: 11399.391579215371\n"
     ]
    }
   ],
   "source": [
    "gboost = GradientBoostingRegressor(n_estimators = 4000, learning_rate = 0.08,\n",
    "                                   max_depth = 3, max_features='sqrt',\n",
    "                                   min_samples_leaf = 15, min_samples_split = 10, \n",
    "                                   loss = 'huber', random_state = 5)\n",
    "\n",
    "gboost.fit(X_train, y_train)\n",
    "print_metrics(gboost, gboost.score(X_test2, y_test), y_test, gboost.predict(X_test2))"
   ]
  },
  {
   "cell_type": "code",
   "execution_count": 26,
   "id": "f99c6322",
   "metadata": {},
   "outputs": [
    {
     "data": {
      "image/png": "[encoded data removed]",
      "text/plain": [
       "<Figure size 432x288 with 1 Axes>"
      ]
     },
     "metadata": {
      "needs_background": "light"
     },
     "output_type": "display_data"
    }
   ],
   "source": [
    "y_predicted = gboost.predict(X_test2)\n",
    "plot_model(y_test, y_predicted)"
   ]
  },
  {
   "cell_type": "markdown",
   "id": "b7706c3c",
   "metadata": {},
   "source": [
    "## RandomForestRegressor"
   ]
  },
  {
   "cell_type": "code",
   "execution_count": 27,
   "id": "43cd870a",
   "metadata": {},
   "outputs": [
    {
     "data": {
      "text/plain": [
       "RandomForestRegressor(min_impurity_decrease=0.002, min_samples_split=5,\n",
       "                      min_weight_fraction_leaf=0.001, n_estimators=50,\n",
       "                      random_state=40)"
      ]
     },
     "execution_count": 27,
     "metadata": {},
     "output_type": "execute_result"
    }
   ],
   "source": [
    "rfr = RandomForestRegressor(n_estimators = 50, random_state=40,\n",
    "                          min_impurity_decrease=0.002, min_weight_fraction_leaf = 0.001, min_samples_split = 5)\n",
    "rfr.fit(X_train,y_train)"
   ]
  },
  {
   "cell_type": "code",
   "execution_count": 28,
   "id": "725e2750",
   "metadata": {},
   "outputs": [
    {
     "name": "stdout",
     "output_type": "stream",
     "text": [
      "Коэффициент детерминации: 0.9553034352189255\n",
      "MSE: 309869448.5159122\n",
      "RMSE: 17603.109058229235\n",
      "MAE: 13202.766772967521\n"
     ]
    }
   ],
   "source": [
    "print_metrics(rfr, rfr.score(X_test2, y_test), y_test, rfr.predict(X_test2))"
   ]
  },
  {
   "cell_type": "code",
   "execution_count": 29,
   "id": "e56fbcf1",
   "metadata": {},
   "outputs": [
    {
     "data": {
      "image/png": "[encoded data removed]",
      "text/plain": [
       "<Figure size 432x288 with 1 Axes>"
      ]
     },
     "metadata": {
      "needs_background": "light"
     },
     "output_type": "display_data"
    }
   ],
   "source": [
    "y_predicted = rfr.predict(X_test2)\n",
    "plot_model(y_test, y_predicted)"
   ]
  },
  {
   "cell_type": "markdown",
   "id": "5d1ef974",
   "metadata": {},
   "source": [
    "## XGBoost"
   ]
  },
  {
   "cell_type": "code",
   "execution_count": 30,
   "id": "904a4a0a",
   "metadata": {},
   "outputs": [
    {
     "data": {
      "text/plain": [
       "XGBRegressor(base_score=0.5, booster='gbtree', colsample_bylevel=1,\n",
       "             colsample_bynode=1, colsample_bytree=0.4603, gamma=0.0468,\n",
       "             gpu_id=-1, importance_type='gain', interaction_constraints='',\n",
       "             learning_rate=0.05, max_delta_step=0, max_depth=5,\n",
       "             min_child_weight=1.4, missing=nan, monotone_constraints='()',\n",
       "             n_estimators=1000, n_jobs=12, nthread=-1, num_parallel_tree=1,\n",
       "             random_state=7, reg_alpha=0.464, reg_lambda=0.8571,\n",
       "             scale_pos_weight=1, subsample=0.5213, tree_method='exact',\n",
       "             validate_parameters=1, verbosity=None)"
      ]
     },
     "execution_count": 30,
     "metadata": {},
     "output_type": "execute_result"
    }
   ],
   "source": [
    "xgboost = XGBRegressor(colsample_bytree = 0.4603, gamma = 0.0468, \n",
    "                             learning_rate = 0.05, max_depth = 5, \n",
    "                             min_child_weight = 1.4, n_estimators = 1000,\n",
    "                             reg_alpha = 0.4640, reg_lambda = 0.8571,\n",
    "                             subsample = 0.5213, random_state = 7, nthread = -1)\n",
    "xgboost.fit(X_train, y_train)"
   ]
  },
  {
   "cell_type": "code",
   "execution_count": 31,
   "id": "a66b2976",
   "metadata": {},
   "outputs": [
    {
     "name": "stdout",
     "output_type": "stream",
     "text": [
      "Коэффициент детерминации: 0.9690470140966069\n",
      "MSE: 214588855.29087517\n",
      "RMSE: 14648.85167140671\n",
      "MAE: 10622.481164383562\n"
     ]
    }
   ],
   "source": [
    "print_metrics(xgboost, xgboost.score(X_test2, y_test), y_test, xgboost.predict(X_test2))"
   ]
  },
  {
   "cell_type": "code",
   "execution_count": 32,
   "id": "c6e7bc65",
   "metadata": {},
   "outputs": [
    {
     "data": {
      "image/png": "[encoded data removed]",
      "text/plain": [
       "<Figure size 432x288 with 1 Axes>"
      ]
     },
     "metadata": {
      "needs_background": "light"
     },
     "output_type": "display_data"
    }
   ],
   "source": [
    "y_predicted = xgboost.predict(X_test2)\n",
    "plot_model(y_test, y_predicted)"
   ]
  },
  {
   "cell_type": "code",
   "execution_count": 33,
   "id": "d3fa93fe",
   "metadata": {},
   "outputs": [
    {
     "data": {
      "text/html": [
       "<div>\n",
       "<style scoped>\n",
       "    .dataframe tbody tr th:only-of-type {\n",
       "        vertical-align: middle;\n",
       "    }\n",
       "\n",
       "    .dataframe tbody tr th {\n",
       "        vertical-align: top;\n",
       "    }\n",
       "\n",
       "    .dataframe thead th {\n",
       "        text-align: right;\n",
       "    }\n",
       "</style>\n",
       "<table border=\"1\" class=\"dataframe\">\n",
       "  <thead>\n",
       "    <tr style=\"text-align: right;\">\n",
       "      <th></th>\n",
       "      <th>Id</th>\n",
       "      <th>SalePrice</th>\n",
       "    </tr>\n",
       "  </thead>\n",
       "  <tbody>\n",
       "    <tr>\n",
       "      <th>0</th>\n",
       "      <td>1461</td>\n",
       "      <td>123699.125000</td>\n",
       "    </tr>\n",
       "    <tr>\n",
       "      <th>1</th>\n",
       "      <td>1462</td>\n",
       "      <td>165747.343750</td>\n",
       "    </tr>\n",
       "    <tr>\n",
       "      <th>2</th>\n",
       "      <td>1463</td>\n",
       "      <td>187746.531250</td>\n",
       "    </tr>\n",
       "    <tr>\n",
       "      <th>3</th>\n",
       "      <td>1464</td>\n",
       "      <td>194544.765625</td>\n",
       "    </tr>\n",
       "    <tr>\n",
       "      <th>4</th>\n",
       "      <td>1465</td>\n",
       "      <td>183579.843750</td>\n",
       "    </tr>\n",
       "    <tr>\n",
       "      <th>...</th>\n",
       "      <td>...</td>\n",
       "      <td>...</td>\n",
       "    </tr>\n",
       "    <tr>\n",
       "      <th>1454</th>\n",
       "      <td>2915</td>\n",
       "      <td>78605.273438</td>\n",
       "    </tr>\n",
       "    <tr>\n",
       "      <th>1455</th>\n",
       "      <td>2916</td>\n",
       "      <td>79222.765625</td>\n",
       "    </tr>\n",
       "    <tr>\n",
       "      <th>1456</th>\n",
       "      <td>2917</td>\n",
       "      <td>167942.437500</td>\n",
       "    </tr>\n",
       "    <tr>\n",
       "      <th>1457</th>\n",
       "      <td>2918</td>\n",
       "      <td>119779.796875</td>\n",
       "    </tr>\n",
       "    <tr>\n",
       "      <th>1458</th>\n",
       "      <td>2919</td>\n",
       "      <td>211755.187500</td>\n",
       "    </tr>\n",
       "  </tbody>\n",
       "</table>\n",
       "<p>1459 rows × 2 columns</p>\n",
       "</div>"
      ],
      "text/plain": [
       "        Id      SalePrice\n",
       "0     1461  123699.125000\n",
       "1     1462  165747.343750\n",
       "2     1463  187746.531250\n",
       "3     1464  194544.765625\n",
       "4     1465  183579.843750\n",
       "...    ...            ...\n",
       "1454  2915   78605.273438\n",
       "1455  2916   79222.765625\n",
       "1456  2917  167942.437500\n",
       "1457  2918  119779.796875\n",
       "1458  2919  211755.187500\n",
       "\n",
       "[1459 rows x 2 columns]"
      ]
     },
     "execution_count": 33,
     "metadata": {},
     "output_type": "execute_result"
    }
   ],
   "source": [
    "y_result = xgboost.predict(X_test)\n",
    "sample_submission['SalePrice'] = y_result\n",
    "sample_submission"
   ]
  },
  {
   "cell_type": "code",
   "execution_count": 34,
   "id": "7c4574f1",
   "metadata": {},
   "outputs": [],
   "source": [
    "sample_submission.to_csv(\"result.csv\", index = False)"
   ]
  },
  {
   "cell_type": "markdown",
   "id": "bef1d6ae",
   "metadata": {},
   "source": [
    "### Сериализуем модель"
   ]
  },
  {
   "cell_type": "code",
   "execution_count": 39,
   "id": "4ed7a2c8",
   "metadata": {},
   "outputs": [],
   "source": [
    "model = pickle.dumps(xgboost)\n",
    "type(model), type(xgboost)\n",
    "regressor_from_bytes = pickle.loads(model)\n",
    "with open('model.pkl', 'wb') as output:\n",
    "       pickle.dump(xgboost, output)"
   ]
  },
  {
   "cell_type": "markdown",
   "id": "f6b1e25d",
   "metadata": {},
   "source": [
    "## DecisionTreeRegressor"
   ]
  },
  {
   "cell_type": "code",
   "execution_count": 35,
   "id": "c0dd009e",
   "metadata": {},
   "outputs": [
    {
     "data": {
      "text/plain": [
       "DecisionTreeRegressor(min_impurity_decrease=0.002, min_samples_split=5,\n",
       "                      min_weight_fraction_leaf=0.001, random_state=140)"
      ]
     },
     "execution_count": 35,
     "metadata": {},
     "output_type": "execute_result"
    }
   ],
   "source": [
    "dtr = DecisionTreeRegressor(random_state = 140, min_samples_split = 5, min_impurity_decrease = 0.002, min_weight_fraction_leaf = 0.001)\n",
    "dtr.fit(X_train, y_train)"
   ]
  },
  {
   "cell_type": "code",
   "execution_count": 36,
   "id": "6b35e9a7",
   "metadata": {},
   "outputs": [
    {
     "name": "stdout",
     "output_type": "stream",
     "text": [
      "Коэффициент детерминации: 0.8677587408215467\n",
      "MSE: 916793633.9937215\n",
      "RMSE: 30278.600264769862\n",
      "MAE: 20398.90182648402\n"
     ]
    }
   ],
   "source": [
    "print_metrics(dtr, dtr.score(X_test2,y_test) ,y_test, dtr.predict(X_test2))"
   ]
  },
  {
   "cell_type": "code",
   "execution_count": 37,
   "id": "e5812551",
   "metadata": {},
   "outputs": [
    {
     "data": {
      "image/png": "[encoded data removed]",
      "text/plain": [
       "<Figure size 432x288 with 1 Axes>"
      ]
     },
     "metadata": {
      "needs_background": "light"
     },
     "output_type": "display_data"
    }
   ],
   "source": [
    "y_predicted = dtr.predict(X_test2)\n",
    "plot_model(y_test, y_predicted)"
   ]
  },
  {
   "cell_type": "code",
   "execution_count": null,
   "id": "3900ca22",
   "metadata": {},
   "outputs": [],
   "source": []
  }
 ],
 "metadata": {
  "kernelspec": {
   "display_name": "Python 3",
   "language": "python",
   "name": "python3"
  },
  "language_info": {
   "codemirror_mode": {
    "name": "ipython",
    "version": 3
   },
   "file_extension": ".py",
   "mimetype": "text/x-python",
   "name": "python",
   "nbconvert_exporter": "python",
   "pygments_lexer": "ipython3",
   "version": "3.8.8"
  }
 },
 "nbformat": 4,
 "nbformat_minor": 5
}
