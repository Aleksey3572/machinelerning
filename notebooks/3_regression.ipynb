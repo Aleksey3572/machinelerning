{
 "cells": [
  {
   "cell_type": "code",
   "execution_count": 1,
   "metadata": {},
   "outputs": [],
   "source": [
    "import pandas as pd\n",
    "from sklearn.model_selection import train_test_split\n",
    "from sklearn.preprocessing import StandardScaler\n",
    "import numpy as np\n",
    "import seaborn as sns\n",
    "import matplotlib.pyplot as plt"
   ]
  },
  {
   "cell_type": "code",
   "execution_count": 2,
   "metadata": {},
   "outputs": [
    {
     "data": {
      "text/html": [
       "<div>\n",
       "<style scoped>\n",
       "    .dataframe tbody tr th:only-of-type {\n",
       "        vertical-align: middle;\n",
       "    }\n",
       "\n",
       "    .dataframe tbody tr th {\n",
       "        vertical-align: top;\n",
       "    }\n",
       "\n",
       "    .dataframe thead th {\n",
       "        text-align: right;\n",
       "    }\n",
       "</style>\n",
       "<table border=\"1\" class=\"dataframe\">\n",
       "  <thead>\n",
       "    <tr style=\"text-align: right;\">\n",
       "      <th></th>\n",
       "      <th>X1</th>\n",
       "      <th>X2</th>\n",
       "      <th>X3</th>\n",
       "      <th>X4</th>\n",
       "      <th>X5</th>\n",
       "      <th>X6</th>\n",
       "      <th>X7</th>\n",
       "      <th>X8</th>\n",
       "      <th>Y1</th>\n",
       "      <th>Y2</th>\n",
       "    </tr>\n",
       "  </thead>\n",
       "  <tbody>\n",
       "    <tr>\n",
       "      <th>0</th>\n",
       "      <td>0.98</td>\n",
       "      <td>514.5</td>\n",
       "      <td>294.0</td>\n",
       "      <td>110.25</td>\n",
       "      <td>7.0</td>\n",
       "      <td>2</td>\n",
       "      <td>0.0</td>\n",
       "      <td>0</td>\n",
       "      <td>15.55</td>\n",
       "      <td>21.33</td>\n",
       "    </tr>\n",
       "    <tr>\n",
       "      <th>1</th>\n",
       "      <td>0.98</td>\n",
       "      <td>514.5</td>\n",
       "      <td>294.0</td>\n",
       "      <td>110.25</td>\n",
       "      <td>7.0</td>\n",
       "      <td>3</td>\n",
       "      <td>0.0</td>\n",
       "      <td>0</td>\n",
       "      <td>15.55</td>\n",
       "      <td>21.33</td>\n",
       "    </tr>\n",
       "    <tr>\n",
       "      <th>2</th>\n",
       "      <td>0.98</td>\n",
       "      <td>514.5</td>\n",
       "      <td>294.0</td>\n",
       "      <td>110.25</td>\n",
       "      <td>7.0</td>\n",
       "      <td>4</td>\n",
       "      <td>0.0</td>\n",
       "      <td>0</td>\n",
       "      <td>15.55</td>\n",
       "      <td>21.33</td>\n",
       "    </tr>\n",
       "    <tr>\n",
       "      <th>3</th>\n",
       "      <td>0.98</td>\n",
       "      <td>514.5</td>\n",
       "      <td>294.0</td>\n",
       "      <td>110.25</td>\n",
       "      <td>7.0</td>\n",
       "      <td>5</td>\n",
       "      <td>0.0</td>\n",
       "      <td>0</td>\n",
       "      <td>15.55</td>\n",
       "      <td>21.33</td>\n",
       "    </tr>\n",
       "    <tr>\n",
       "      <th>4</th>\n",
       "      <td>0.90</td>\n",
       "      <td>563.5</td>\n",
       "      <td>318.5</td>\n",
       "      <td>122.50</td>\n",
       "      <td>7.0</td>\n",
       "      <td>2</td>\n",
       "      <td>0.0</td>\n",
       "      <td>0</td>\n",
       "      <td>20.84</td>\n",
       "      <td>28.28</td>\n",
       "    </tr>\n",
       "  </tbody>\n",
       "</table>\n",
       "</div>"
      ],
      "text/plain": [
       "     X1     X2     X3      X4   X5  X6   X7  X8     Y1     Y2\n",
       "0  0.98  514.5  294.0  110.25  7.0   2  0.0   0  15.55  21.33\n",
       "1  0.98  514.5  294.0  110.25  7.0   3  0.0   0  15.55  21.33\n",
       "2  0.98  514.5  294.0  110.25  7.0   4  0.0   0  15.55  21.33\n",
       "3  0.98  514.5  294.0  110.25  7.0   5  0.0   0  15.55  21.33\n",
       "4  0.90  563.5  318.5  122.50  7.0   2  0.0   0  20.84  28.28"
      ]
     },
     "execution_count": 2,
     "metadata": {},
     "output_type": "execute_result"
    }
   ],
   "source": [
    "data = pd.read_csv('Energy_efficiency_Data_Set_preprocessed.csv', decimal=\",\")\n",
    "data.head()"
   ]
  },
  {
   "cell_type": "code",
   "execution_count": 3,
   "metadata": {},
   "outputs": [],
   "source": [
    "x = data.drop(columns=['Y1','Y2'])\n",
    "y1 = data['Y1']\n",
    "y2 = data['Y2']\n",
    "\n",
    "std = StandardScaler()\n",
    "x_scaled = std.fit(x).transform(x)"
   ]
  },
  {
   "cell_type": "code",
   "execution_count": 4,
   "metadata": {},
   "outputs": [],
   "source": [
    "X1_train, X1_test, y1_train, y1_test = train_test_split(x_scaled, y1, test_size=0.20)\n",
    "X2_train, X2_test, y2_train, y2_test = train_test_split(x_scaled, y2, test_size=0.20)"
   ]
  },
  {
   "cell_type": "code",
   "execution_count": 6,
   "metadata": {},
   "outputs": [
    {
     "data": {
      "text/plain": [
       "<AxesSubplot:>"
      ]
     },
     "execution_count": 6,
     "metadata": {},
     "output_type": "execute_result"
    },
    {
     "data": {
      "image/png": "[encoded data removed]",
      "text/plain": [
       "<Figure size 936x720 with 2 Axes>"
      ]
     },
     "metadata": {
      "needs_background": "light"
     },
     "output_type": "display_data"
    }
   ],
   "source": [
    "plt.figure(figsize=(13,10))\n",
    "sns.heatmap(data.corr(), vmax=0.8)"
   ]
  },
  {
   "cell_type": "markdown",
   "metadata": {},
   "source": [
    "# Линейная регрессия"
   ]
  },
  {
   "cell_type": "code",
   "execution_count": 7,
   "metadata": {},
   "outputs": [],
   "source": [
    "from sklearn.linear_model import LinearRegression\n",
    "from sklearn.metrics import r2_score, mean_absolute_error, mean_squared_error\n",
    "from math import sqrt"
   ]
  },
  {
   "cell_type": "code",
   "execution_count": 8,
   "metadata": {},
   "outputs": [],
   "source": [
    "model = LinearRegression()\n",
    "model.fit(X1_train, y1_train)\n",
    "y1_pred = model.predict(X1_test)"
   ]
  },
  {
   "cell_type": "code",
   "execution_count": 9,
   "metadata": {},
   "outputs": [
    {
     "name": "stdout",
     "output_type": "stream",
     "text": [
      "R2: 0.910589675611715\n",
      "Mean Square Error(MSE): 3.1427030517047974\n",
      "Root Mean Square Error(RMSE): 1.7727670607569392\n",
      "mean absolute error (MAE): 2.247711505731131\n"
     ]
    }
   ],
   "source": [
    "print ('R2:',r2_score(y1_test, y1_pred))\n",
    "print ('Mean Square Error(MSE):',mean_squared_error(y1_test, y1_pred, squared=False))\n",
    "print ('Root Mean Square Error(RMSE):',sqrt(mean_squared_error(y1_test, y1_pred, squared=False)))\n",
    "print ('mean absolute error (MAE):',mean_absolute_error(y1_test, y1_pred))"
   ]
  },
  {
   "cell_type": "code",
   "execution_count": 10,
   "metadata": {},
   "outputs": [],
   "source": [
    "model = LinearRegression()\n",
    "model.fit(X2_train, y2_train)\n",
    "y2_pred = model.predict(X2_test)"
   ]
  },
  {
   "cell_type": "code",
   "execution_count": 11,
   "metadata": {},
   "outputs": [
    {
     "name": "stdout",
     "output_type": "stream",
     "text": [
      "R2: 0.8740085399775844\n",
      "Mean Square Error(MSE): 3.3102072674036878\n",
      "Root Mean Square Error(RMSE): 1.8193975012084873\n",
      "mean absolute error (MAE): 2.4291297114694097\n"
     ]
    }
   ],
   "source": [
    "print ('R2:',r2_score(y2_test, y2_pred))\n",
    "print ('Mean Square Error(MSE):',mean_squared_error(y2_test, y2_pred, squared=False))\n",
    "print ('Root Mean Square Error(RMSE):',sqrt(mean_squared_error(y2_test, y2_pred, squared=False)))\n",
    "print ('mean absolute error (MAE):',mean_absolute_error(y2_test, y2_pred))"
   ]
  },
  {
   "cell_type": "markdown",
   "metadata": {},
   "source": [
    "# Регрессия дерева решений"
   ]
  },
  {
   "cell_type": "code",
   "execution_count": 12,
   "metadata": {},
   "outputs": [],
   "source": [
    "from sklearn.tree import DecisionTreeRegressor"
   ]
  },
  {
   "cell_type": "code",
   "execution_count": 13,
   "metadata": {},
   "outputs": [
    {
     "data": {
      "text/plain": [
       "DecisionTreeRegressor(random_state=0)"
      ]
     },
     "execution_count": 13,
     "metadata": {},
     "output_type": "execute_result"
    }
   ],
   "source": [
    "model = DecisionTreeRegressor(random_state=0)\n",
    "model.fit(X1_train, y1_train)"
   ]
  },
  {
   "cell_type": "code",
   "execution_count": 14,
   "metadata": {},
   "outputs": [],
   "source": [
    "y1_pred=model.predict(X1_test)"
   ]
  },
  {
   "cell_type": "code",
   "execution_count": 15,
   "metadata": {},
   "outputs": [
    {
     "name": "stdout",
     "output_type": "stream",
     "text": [
      "R2: 0.9960749645575195\n",
      "Mean Square Error(MSE): 0.6584628893289103\n",
      "Root Mean Square Error(RMSE): 0.81145726278647\n",
      "mean absolute error (MAE): 0.4243506493506493\n"
     ]
    }
   ],
   "source": [
    "print ('R2:',r2_score(y1_test, y1_pred))\n",
    "print ('Mean Square Error(MSE):',mean_squared_error(y1_test, y1_pred, squared=False))\n",
    "print ('Root Mean Square Error(RMSE):',sqrt(mean_squared_error(y1_test, y1_pred, squared=False)))\n",
    "print ('mean absolute error (MAE):',mean_absolute_error(y1_test, y1_pred))"
   ]
  },
  {
   "cell_type": "code",
   "execution_count": 16,
   "metadata": {},
   "outputs": [
    {
     "data": {
      "text/plain": [
       "DecisionTreeRegressor(random_state=0)"
      ]
     },
     "execution_count": 16,
     "metadata": {},
     "output_type": "execute_result"
    }
   ],
   "source": [
    "model = DecisionTreeRegressor(random_state=0)\n",
    "model.fit(X2_train, y2_train)"
   ]
  },
  {
   "cell_type": "code",
   "execution_count": 17,
   "metadata": {},
   "outputs": [],
   "source": [
    "y2_pred=model.predict(X2_test)"
   ]
  },
  {
   "cell_type": "code",
   "execution_count": 18,
   "metadata": {},
   "outputs": [
    {
     "name": "stdout",
     "output_type": "stream",
     "text": [
      "R2: 0.9494721185749164\n",
      "Mean Square Error(MSE): 2.0962842822975594\n",
      "Root Mean Square Error(RMSE): 1.4478550626003832\n",
      "mean absolute error (MAE): 1.1232467532467534\n"
     ]
    }
   ],
   "source": [
    "print ('R2:',r2_score(y2_test, y2_pred))\n",
    "print ('Mean Square Error(MSE):',mean_squared_error(y2_test, y2_pred, squared=False))\n",
    "print ('Root Mean Square Error(RMSE):',sqrt(mean_squared_error(y2_test, y2_pred, squared=False)))\n",
    "print ('mean absolute error (MAE):',mean_absolute_error(y2_test, y2_pred))"
   ]
  },
  {
   "cell_type": "markdown",
   "metadata": {},
   "source": [
    "# LASSO"
   ]
  },
  {
   "cell_type": "code",
   "execution_count": 19,
   "metadata": {},
   "outputs": [],
   "source": [
    "from sklearn.linear_model import Lasso\n",
    "from sklearn.metrics import mean_squared_error"
   ]
  },
  {
   "cell_type": "code",
   "execution_count": 20,
   "metadata": {},
   "outputs": [
    {
     "data": {
      "text/plain": [
       "Lasso()"
      ]
     },
     "execution_count": 20,
     "metadata": {},
     "output_type": "execute_result"
    }
   ],
   "source": [
    "model = Lasso(alpha=1.0)\n",
    "model.fit(X1_train, y1_train)"
   ]
  },
  {
   "cell_type": "code",
   "execution_count": 21,
   "metadata": {},
   "outputs": [],
   "source": [
    "y1_pred=model.predict(X1_test)"
   ]
  },
  {
   "cell_type": "code",
   "execution_count": 22,
   "metadata": {},
   "outputs": [
    {
     "name": "stdout",
     "output_type": "stream",
     "text": [
      "R2: 0.8592089520641759\n",
      "Mean Square Error(MSE): 3.9436379092613434\n",
      "Root Mean Square Error(RMSE): 1.9858594888010943\n",
      "mean absolute error (MAE): 2.913420059176826\n"
     ]
    }
   ],
   "source": [
    "print ('R2:',r2_score(y1_test, y1_pred))\n",
    "print ('Mean Square Error(MSE):',mean_squared_error(y1_test, y1_pred, squared=False))\n",
    "print ('Root Mean Square Error(RMSE):',sqrt(mean_squared_error(y1_test, y1_pred, squared=False)))\n",
    "print ('mean absolute error (MAE):',mean_absolute_error(y1_test, y1_pred))"
   ]
  },
  {
   "cell_type": "code",
   "execution_count": 23,
   "metadata": {},
   "outputs": [
    {
     "data": {
      "text/plain": [
       "Lasso()"
      ]
     },
     "execution_count": 23,
     "metadata": {},
     "output_type": "execute_result"
    }
   ],
   "source": [
    "model = Lasso(alpha=1.0)\n",
    "model.fit(X2_train, y2_train)"
   ]
  },
  {
   "cell_type": "code",
   "execution_count": 24,
   "metadata": {},
   "outputs": [],
   "source": [
    "y2_pred=model.predict(X2_test)"
   ]
  },
  {
   "cell_type": "code",
   "execution_count": 25,
   "metadata": {},
   "outputs": [
    {
     "name": "stdout",
     "output_type": "stream",
     "text": [
      "R2: 0.843034918485591\n",
      "Mean Square Error(MSE): 3.6947593635325275\n",
      "Root Mean Square Error(RMSE): 1.9221756848770426\n",
      "mean absolute error (MAE): 2.806250887365514\n"
     ]
    }
   ],
   "source": [
    "print ('R2:',r2_score(y2_test, y2_pred))\n",
    "print ('Mean Square Error(MSE):',mean_squared_error(y2_test, y2_pred, squared=False))\n",
    "print ('Root Mean Square Error(RMSE):',sqrt(mean_squared_error(y2_test, y2_pred, squared=False)))\n",
    "print ('mean absolute error (MAE):',mean_absolute_error(y2_test, y2_pred))"
   ]
  },
  {
   "cell_type": "markdown",
   "metadata": {},
   "source": [
    "# Гребневая регрессия"
   ]
  },
  {
   "cell_type": "code",
   "execution_count": 26,
   "metadata": {},
   "outputs": [],
   "source": [
    "from sklearn.linear_model import Ridge"
   ]
  },
  {
   "cell_type": "code",
   "execution_count": 27,
   "metadata": {},
   "outputs": [
    {
     "data": {
      "text/plain": [
       "Ridge()"
      ]
     },
     "execution_count": 27,
     "metadata": {},
     "output_type": "execute_result"
    }
   ],
   "source": [
    "model=Ridge(alpha=1.0)\n",
    "model.fit(X1_train, y1_train)"
   ]
  },
  {
   "cell_type": "code",
   "execution_count": 28,
   "metadata": {},
   "outputs": [],
   "source": [
    "y1_pred=model.predict(X1_test)"
   ]
  },
  {
   "cell_type": "code",
   "execution_count": 29,
   "metadata": {},
   "outputs": [
    {
     "name": "stdout",
     "output_type": "stream",
     "text": [
      "R2: 0.9097855078823786\n",
      "Mean Square Error(MSE): 3.1568043491896027\n",
      "Root Mean Square Error(RMSE): 1.7767398090856192\n",
      "mean absolute error (MAE): 2.2652289723499237\n"
     ]
    }
   ],
   "source": [
    "print ('R2:',r2_score(y1_test, y1_pred))\n",
    "print ('Mean Square Error(MSE):',mean_squared_error(y1_test, y1_pred, squared=False))\n",
    "print ('Root Mean Square Error(RMSE):',sqrt(mean_squared_error(y1_test, y1_pred, squared=False)))\n",
    "print ('mean absolute error (MAE):',mean_absolute_error(y1_test, y1_pred))"
   ]
  },
  {
   "cell_type": "code",
   "execution_count": 30,
   "metadata": {},
   "outputs": [
    {
     "data": {
      "text/plain": [
       "Ridge()"
      ]
     },
     "execution_count": 30,
     "metadata": {},
     "output_type": "execute_result"
    }
   ],
   "source": [
    "model=Ridge(alpha=1.0)\n",
    "model.fit(X2_train, y2_train)"
   ]
  },
  {
   "cell_type": "code",
   "execution_count": 31,
   "metadata": {},
   "outputs": [],
   "source": [
    "y2_pred=model.predict(X2_test)"
   ]
  },
  {
   "cell_type": "code",
   "execution_count": 32,
   "metadata": {},
   "outputs": [
    {
     "name": "stdout",
     "output_type": "stream",
     "text": [
      "R2: 0.8735659785672703\n",
      "Mean Square Error(MSE): 3.3160159379932206\n",
      "Root Mean Square Error(RMSE): 1.8209931186012813\n",
      "mean absolute error (MAE): 2.4357190932462838\n"
     ]
    }
   ],
   "source": [
    "print ('R2:',r2_score(y2_test, y2_pred))\n",
    "print ('Mean Square Error(MSE):',mean_squared_error(y2_test, y2_pred, squared=False))\n",
    "print ('Root Mean Square Error(RMSE):',sqrt(mean_squared_error(y2_test, y2_pred, squared=False)))\n",
    "print ('mean absolute error (MAE):',mean_absolute_error(y2_test, y2_pred))"
   ]
  },
  {
   "cell_type": "markdown",
   "metadata": {},
   "source": [
    "# Elastic Net регрессия"
   ]
  },
  {
   "cell_type": "code",
   "execution_count": 33,
   "metadata": {},
   "outputs": [],
   "source": [
    "from sklearn.linear_model import ElasticNetCV"
   ]
  },
  {
   "cell_type": "code",
   "execution_count": 34,
   "metadata": {},
   "outputs": [
    {
     "data": {
      "text/plain": [
       "ElasticNetCV(cv=5, random_state=0)"
      ]
     },
     "execution_count": 34,
     "metadata": {},
     "output_type": "execute_result"
    }
   ],
   "source": [
    "model = ElasticNetCV(cv=5, random_state=0)\n",
    "model.fit(X1_train, y1_train)"
   ]
  },
  {
   "cell_type": "code",
   "execution_count": 35,
   "metadata": {},
   "outputs": [],
   "source": [
    "y1_pred=model.predict(X1_test)"
   ]
  },
  {
   "cell_type": "code",
   "execution_count": 36,
   "metadata": {},
   "outputs": [
    {
     "name": "stdout",
     "output_type": "stream",
     "text": [
      "R2: 0.9059472554748158\n",
      "Mean Square Error(MSE): 3.2232593307016058\n",
      "Root Mean Square Error(RMSE): 1.795343791785185\n",
      "mean absolute error (MAE): 2.316997205317389\n"
     ]
    }
   ],
   "source": [
    "print ('R2:',r2_score(y1_test, y1_pred))\n",
    "print ('Mean Square Error(MSE):',mean_squared_error(y1_test, y1_pred, squared=False))\n",
    "print ('Root Mean Square Error(RMSE):',sqrt(mean_squared_error(y1_test, y1_pred, squared=False)))\n",
    "print ('mean absolute error (MAE):',mean_absolute_error(y1_test, y1_pred))"
   ]
  },
  {
   "cell_type": "code",
   "execution_count": 37,
   "metadata": {},
   "outputs": [
    {
     "data": {
      "text/plain": [
       "ElasticNetCV(cv=5, random_state=0)"
      ]
     },
     "execution_count": 37,
     "metadata": {},
     "output_type": "execute_result"
    }
   ],
   "source": [
    "model = ElasticNetCV(cv=5, random_state=0)\n",
    "model.fit(X2_train, y2_train)"
   ]
  },
  {
   "cell_type": "code",
   "execution_count": 38,
   "metadata": {},
   "outputs": [],
   "source": [
    "y2_pred=model.predict(X2_test)"
   ]
  },
  {
   "cell_type": "code",
   "execution_count": 39,
   "metadata": {},
   "outputs": [
    {
     "name": "stdout",
     "output_type": "stream",
     "text": [
      "R2: 0.8713549591433126\n",
      "Mean Square Error(MSE): 3.3448847469514735\n",
      "Root Mean Square Error(RMSE): 1.8289026072898122\n",
      "mean absolute error (MAE): 2.4768556110197104\n"
     ]
    }
   ],
   "source": [
    "print ('R2:',r2_score(y2_test, y2_pred))\n",
    "print ('Mean Square Error(MSE):',mean_squared_error(y2_test, y2_pred, squared=False))\n",
    "print ('Root Mean Square Error(RMSE):',sqrt(mean_squared_error(y2_test, y2_pred, squared=False)))\n",
    "print ('mean absolute error (MAE):',mean_absolute_error(y2_test, y2_pred))"
   ]
  },
  {
   "cell_type": "markdown",
   "metadata": {},
   "source": [
    "# Ссылки"
   ]
  },
  {
   "cell_type": "markdown",
   "metadata": {},
   "source": [
    "\n",
    "\n",
    "https://mcs.mail.ru/blog/-5-algoritmov-regressii-v-mashinnom-obuchenii \\ https://scikit-learn.org/stable/modules/generated/sklearn.linear_model.LinearRegression.html \\ https://scikit-learn.org/stable/modules/generated/sklearn.tree.DecisionTreeRegressor.html \\ https://scikit-learn.org/stable/modules/generated/sklearn.linear_model.Lasso.html \\ https://scikit-learn.org/stable/modules/generated/sklearn.linear_model.Ridge.html \\ https://scikit-learn.org/stable/modules/generated/sklearn.linear_model.ElasticNetCV.html\n"
   ]
  }
 ],
 "metadata": {
  "kernelspec": {
   "display_name": "Python 3",
   "language": "python",
   "name": "python3"
  },
  "language_info": {
   "codemirror_mode": {
    "name": "ipython",
    "version": 3
   },
   "file_extension": ".py",
   "mimetype": "text/x-python",
   "name": "python",
   "nbconvert_exporter": "python",
   "pygments_lexer": "ipython3",
   "version": "3.8.5"
  }
 },
 "nbformat": 4,
 "nbformat_minor": 4
}
